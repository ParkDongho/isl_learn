{
 "cells": [
  {
   "cell_type": "markdown",
   "metadata": {},
   "source": [
    "# Isl Concept\n",
    "\n",
    "이 문서에서는 `isl` 라이브러리의 몇 가지 개념과 일부 클래스 및 함수의 사용법을 소개하여 이러한 연산이 무엇을 의미하는지 쉽게 이해할 수 있도록 합니다.\n",
    "\n",
    "[polycomp-tutorial](https://libisl.sourceforge.io/tutorial.pdf) 및 [isl 매뉴얼](https://libisl.sourceforge.io/manual.pdf)을 대략적으로 요약한 것입니다. 가급적 원본 문서를 참조하는 것이 좋습니다.\n"
   ]
  },
  {
   "cell_type": "markdown",
   "metadata": {},
   "source": [
    "# Values\n",
    "\n",
    "`isl`은 `isl.val`을 사용하여 정수 값, 유리수 값 또는 세 가지 특수 값인 무한대, 음의 무한대, `NaN` 중 하나를 나타냅니다. 일부 사전 정의된 값은 다음 함수를 사용하여 만들 수 있습니다."
   ]
  },
  {
   "cell_type": "code",
   "execution_count": 44,
   "metadata": {},
   "outputs": [],
   "source": [
    "import islpy as isl"
   ]
  },
  {
   "cell_type": "code",
   "execution_count": 47,
   "metadata": {},
   "outputs": [
    {
     "name": "stdout",
     "output_type": "stream",
     "text": [
      "val 구성:\n",
      "1\n",
      "0\n",
      "infty\n",
      "123\n",
      "456\n",
      "val 비교:\n",
      "True\n",
      "True\n",
      "False\n",
      "True\n",
      "val 카운트:\n",
      "6\n",
      "True\n"
     ]
    }
   ],
   "source": [
    "print(\"val 구성:\")\n",
    "\n",
    "\n",
    "print(isl.Val.one(isl.DEFAULT_CONTEXT))\n",
    "print(isl.Val.zero(isl.DEFAULT_CONTEXT))\n",
    "print(isl.Val.infty(isl.DEFAULT_CONTEXT))\n",
    "print(isl.Val(123))\n",
    "print(isl.Val(\"456\"))\n",
    "\n",
    "print(\"val 비교:\")\n",
    "\n",
    "print(isl.Val.one(isl.DEFAULT_CONTEXT).is_one())\n",
    "print(isl.Val(\"1\").is_one())\n",
    "print(isl.Val(\"1\").is_zero())\n",
    "print(isl.Val(\"1\").le(isl.Val(\"2\")))\n",
    "\n",
    "print(\"val 카운트:\")\n",
    "\n",
    "print(isl.Val(3).mul(isl.Val(2)))\n",
    "print(isl.Val(6).is_divisible_by(isl.Val(2)))\n"
   ]
  },
  {
   "cell_type": "markdown",
   "metadata": {},
   "source": [
    "# Identifiers\n",
    "\n",
    "`Identifier`는 개별 차원과 차원 튜플을 식별하는 데 사용됩니다. 선택적 `name`과 선택적 `void *user`로 구성됩니다. 그러나 이름과 사용자 포인터는 모두 NULL일 수 없습니다. `name`은 같지만 `user` 포인터 값이 다른 `id`는 별개의 것으로 간주됩니다. 마찬가지로 `name`은 다르지만 `user` 포인터 값이 같은 식별자는 고유한 것으로 간주됩니다. 동등한 식별자는 동일한 객체로 표현됩니다. 따라서 == 연산자를 사용하여 식별자 쌍의 동등성을 테스트할 수 있습니다. 식별자는 다음 함수를 사용하여 생성, 복사, 해제, 확인 및 인쇄할 수 있습니다.\n",
    "\n",
    "⚠️`python` 인터페이스에서는 포인터를 마음대로 조작할 수 없으므로 `user` 포인터는 기본적으로 기본값으로 설정되고 증가하며 사용자가 전달/수정할 수 없습니다. 따라서 `python`에서 `id` 동등성을 검사하는 기준이 하나 줄어듭니다.\n"
   ]
  },
  {
   "cell_type": "code",
   "execution_count": 36,
   "metadata": {},
   "outputs": [
    {
     "name": "stdout",
     "output_type": "stream",
     "text": [
      "Id 构造:\n",
      "Id 比较:\n",
      "构造函数内会自增指针指导致不等价: False\n",
      "True\n"
     ]
    }
   ],
   "source": [
    "print(\"Id 构造:\")\n",
    "a = isl.Id(\"A\")\n",
    "b = isl.Id(\"B\")\n",
    "\n",
    "print(\"Id 比较:\")\n",
    "print(\"构造函数内会自增指针指导致不等价:\", isl.Id(\"A\") == isl.Id('A'))\n",
    "print(a == a)"
   ]
  },
  {
   "cell_type": "markdown",
   "metadata": {},
   "source": [
    "# Space\n",
    "\n",
    "새로운 `set`, `map` 또는 이와 유사한 객체를 처음부터 새로 만들 때마다 `isl_space`를 사용하여 객체가 상주할 공간을 지정해야 합니다. 각 공간에는 0개 이상의 매개변수와 0개 또는 하나 또는 두 개의 집합 또는 입력/출력 차원 튜플이 포함됩니다. 매개변수와 차원은 `isl_dim_type`과 위치로 식별됩니다. `isl_dim_param` 유형은 매개변수를, `isl_dim_set` 유형은 `set dimensions`(차원이 단일 튜플인 공간의 경우)을, `isl_dim_in` 및 `isl_dim_out` 유형은 입력 및 출력 차원(차원이 두 개의 튜플인 공간의 경우)을 나타냅니다. `Local Space`에는 `isl_dim_div` 유형의 차원도 포함됩니다. 매개변수는 주어진 객체에서의 위치로만 식별된다는 점에 유의하세요. 다른 객체에서 매개변수는 (일반적으로) 이름 또는 식별자로 식별됩니다. 이름 없는 매개변수는 객체 내 위치로만 식별됩니다. 이름 없는 매개변수의 사용은 권장하지 않습니다."
   ]
  },
  {
   "cell_type": "code",
   "execution_count": 43,
   "metadata": {},
   "outputs": [
    {
     "name": "stdout",
     "output_type": "stream",
     "text": [
      "space 구조:\n",
      "{  :  }\n"
     ]
    },
    {
     "ename": "AttributeError",
     "evalue": "'Space' object has no attribute 'add_param'",
     "output_type": "error",
     "traceback": [
      "\u001b[0;31m---------------------------------------------------------------------------\u001b[0m",
      "\u001b[0;31mAttributeError\u001b[0m                            Traceback (most recent call last)",
      "Cell \u001b[0;32mIn[43], line 4\u001b[0m\n\u001b[1;32m      2\u001b[0m unit \u001b[38;5;241m=\u001b[39m isl\u001b[38;5;241m.\u001b[39mSpace\u001b[38;5;241m.\u001b[39munit(isl\u001b[38;5;241m.\u001b[39mDEFAULT_CONTEXT)\n\u001b[1;32m      3\u001b[0m \u001b[38;5;28mprint\u001b[39m(unit)\n\u001b[0;32m----> 4\u001b[0m \u001b[38;5;28mprint\u001b[39m(\u001b[38;5;124m\"\u001b[39m\u001b[38;5;124m매개변수 추가:\u001b[39m\u001b[38;5;124m\"\u001b[39m, \u001b[43munit\u001b[49m\u001b[38;5;241;43m.\u001b[39;49m\u001b[43madd_param\u001b[49m(\u001b[38;5;124m\"\u001b[39m\u001b[38;5;124mA\u001b[39m\u001b[38;5;124m\"\u001b[39m))\n\u001b[1;32m      5\u001b[0m \u001b[38;5;28mprint\u001b[39m(\u001b[38;5;124m\"\u001b[39m\u001b[38;5;124mA라는 이름의 0차원 튜플을 추가:\u001b[39m\u001b[38;5;124m\"\u001b[39m, unit\u001b[38;5;241m.\u001b[39madd_named_tuple(\u001b[38;5;124m\"\u001b[39m\u001b[38;5;124mA\u001b[39m\u001b[38;5;124m\"\u001b[39m, \u001b[38;5;241m0\u001b[39m))\n\u001b[1;32m      6\u001b[0m \u001b[38;5;28mprint\u001b[39m(\u001b[38;5;124m\"\u001b[39m\u001b[38;5;124mB라는 이름의 2차원 튜플을 추가:\u001b[39m\u001b[38;5;124m\"\u001b[39m, unit\u001b[38;5;241m.\u001b[39madd_named_tuple(\u001b[38;5;124m\"\u001b[39m\u001b[38;5;124mB\u001b[39m\u001b[38;5;124m\"\u001b[39m, \u001b[38;5;241m2\u001b[39m))\n",
      "\u001b[0;31mAttributeError\u001b[0m: 'Space' object has no attribute 'add_param'"
     ]
    }
   ],
   "source": [
    "print(\"space 구조:\")\n",
    "unit = isl.Space.unit(isl.DEFAULT_CONTEXT)\n",
    "print(unit)\n",
    "print(\"매개변수 추가:\", unit.add_param(\"A\"))\n",
    "print(\"A라는 이름의 0차원 튜플을 추가:\", unit.add_named_tuple(\"A\", 0))\n",
    "print(\"B라는 이름의 2차원 튜플을 추가:\", unit.add_named_tuple(\"B\", 2))\n",
    "\n",
    "print(\"获取space :\")\n",
    "print(\"set:\", isl.set(\"[n] -> { A[a,b,c] : a < 0 and b> 0 and c >10 }\").space())\n",
    "print(\"union_set:\", isl.union_set(\"[n] -> { A[a,b,c]; }\").space())\n",
    "print(\"map:\", isl.map(\"[n] -> { A[a,b,c] -> B[c,a,b] : a > 0; }\").space())\n",
    "print(\"union_map:\", isl.union_map(\"[n] -> { A[a,b,c] -> B[c,a,b] : a > 0;  B[x] -> C[x] : x < 0;}\").space())\n",
    "\n",
    "print(\"space 属性:\")\n",
    "a = unit.add_param(\"A\")\n",
    "print(\"A的dim类型为IN的个数:\", a.dim(isl.ISL_DIM_TYPE.IN))\n",
    "print(\"A的dim类型为PARAM的个数:\", a.dim(isl.ISL_DIM_TYPE.PARAM))\n",
    "\n",
    "print(\"space 修改:\")\n",
    "print(\"找到dim中param0修改id为B:\", a.set_dim_id(isl.ISL_DIM_TYPE.PARAM, 0, isl.id(\"B\")))\n",
    "sp = isl.space.unit().add_named_tuple(\"A\", 3)\n",
    "print(\"构造一个有名字的三个维度的tuple space:\", sp)\n",
    "sp = sp.set_dim_name(isl.ISL_DIM_TYPE.SET, 0, 'i')\n",
    "print(\"修改第0个维度的名字:\", sp)\n",
    "print(\"product两个space:\", sp.product(sp))\n"
   ]
  },
  {
   "cell_type": "markdown",
   "metadata": {},
   "source": [
    "# Sets and Relations\n",
    "\n",
    "`polycamp`的教程中, 首先介绍了`Named Integer Tuple`, 它由命名整数元组的符号由标识符形成，然后是逗号分隔的整数列表, 比如`A[1,2,5]`. 当不设定名字时可以称为`Unnamed Integer Tuple`,比如`[2,0,4]`.\n",
    "\n",
    "然后`set`通过花括号中使用分号分隔元素来表示, 比如`{ []; A[1,2] }`. 这在isl中被称为`union set`.\n"
   ]
  },
  {
   "cell_type": "code",
   "execution_count": 18,
   "metadata": {},
   "outputs": [
    {
     "name": "stdout",
     "output_type": "stream",
     "text": [
      "set 构造\n",
      "{ A[1, 2] }\n",
      "{ A[a] : a <= 9 }\n",
      "{ []; A[1, 2] }\n"
     ]
    },
    {
     "ename": "TypeError",
     "evalue": "unit(): incompatible function arguments. The following argument types are supported:\n    1. unit(ctx: islpy._isl.Context) -> object\n\nInvoked with types: ",
     "output_type": "error",
     "traceback": [
      "\u001b[0;31m---------------------------------------------------------------------------\u001b[0m",
      "\u001b[0;31mTypeError\u001b[0m                                 Traceback (most recent call last)",
      "Cell \u001b[0;32mIn[18], line 5\u001b[0m\n\u001b[1;32m      3\u001b[0m \u001b[38;5;28mprint\u001b[39m(isl\u001b[38;5;241m.\u001b[39mSet(\u001b[38;5;124m\"\u001b[39m\u001b[38;5;124m{\u001b[39m\u001b[38;5;124m A[a] : a < 10 }\u001b[39m\u001b[38;5;124m\"\u001b[39m))\n\u001b[1;32m      4\u001b[0m \u001b[38;5;28mprint\u001b[39m(isl\u001b[38;5;241m.\u001b[39mUnionSet(\u001b[38;5;124m\"\u001b[39m\u001b[38;5;124m{\u001b[39m\u001b[38;5;124m []; A[1,2] }\u001b[39m\u001b[38;5;124m\"\u001b[39m))\n\u001b[0;32m----> 5\u001b[0m \u001b[38;5;28mprint\u001b[39m(isl\u001b[38;5;241m.\u001b[39mSet\u001b[38;5;241m.\u001b[39mempty(\u001b[43misl\u001b[49m\u001b[38;5;241;43m.\u001b[39;49m\u001b[43mSpace\u001b[49m\u001b[38;5;241;43m.\u001b[39;49m\u001b[43munit\u001b[49m\u001b[43m(\u001b[49m\u001b[43m)\u001b[49m))\n\u001b[1;32m      6\u001b[0m \u001b[38;5;28mprint\u001b[39m(isl\u001b[38;5;241m.\u001b[39mSet\u001b[38;5;241m.\u001b[39mempty(isl\u001b[38;5;241m.\u001b[39mSpace\u001b[38;5;241m.\u001b[39munit()\u001b[38;5;241m.\u001b[39madd_named_tuple(\u001b[38;5;124m\"\u001b[39m\u001b[38;5;124ma\u001b[39m\u001b[38;5;124m\"\u001b[39m, \u001b[38;5;241m1\u001b[39m)))\n\u001b[1;32m      8\u001b[0m \u001b[38;5;28mprint\u001b[39m(\u001b[38;5;124m\"\u001b[39m\u001b[38;5;124mset 操作:\u001b[39m\u001b[38;5;124m\"\u001b[39m)\n",
      "\u001b[0;31mTypeError\u001b[0m: unit(): incompatible function arguments. The following argument types are supported:\n    1. unit(ctx: islpy._isl.Context) -> object\n\nInvoked with types: "
     ]
    }
   ],
   "source": [
    "print(\"set 构造\")\n",
    "print(isl.Set(\"{ A[1,2] }\"))\n",
    "print(isl.Set(\"{ A[a] : a < 10 }\"))\n",
    "print(isl.UnionSet(\"{ []; A[1,2] }\"))\n",
    "print(isl.Set.empty(isl.Space.unit()))\n",
    "print(isl.Set.empty(isl.Space.unit().add_named_tuple(\"a\", 1)))\n",
    "\n",
    "print(\"set 操作:\")\n",
    "print(\"intersect :\", isl.union_set(\"{ []; A[1,2] }\").intersect(isl.union_set(\"{ []; A[1] }\")))\n",
    "print(\"union :\", isl.union_set(\"{ []; A[1,2] }\").union(isl.union_set(\"{ []; C[4] }\")))\n",
    "print(\"subset :\", isl.union_set(\"{ A[1,2] }\").is_subset(isl.union_set(\"{  A[1,2,4] }\")))\n",
    "print(\"identity:\", isl.set(\"{A[a] : a > 10}\").identity())\n",
    "\n"
   ]
  },
  {
   "cell_type": "markdown",
   "metadata": {},
   "source": [
    "\n",
    "- Quantifier Elimination\n",
    "\n",
    "  Quantifier Elimination是将可能存在量化变量的Presburger公式，重写为等效公式，重写后该公式不涉及任何量化的变量. 通过`compute_divs`来调用.\n",
    "\n",
    "- Coalescing\n",
    "  简化整数空间约束, 通过`coalesce`调用."
   ]
  },
  {
   "cell_type": "code",
   "execution_count": 6,
   "metadata": {},
   "outputs": [
    {
     "name": "stdout",
     "output_type": "stream",
     "text": [
      "compute_divs : { A[x] : x >= 2 and 3*floor((-1 - x)/3) > -2x }\n",
      "coalesce : { A[x] : exists (e0: x < 3e0 < 2x) }\n",
      "coalesce : { A[x] : 0 < x <= 10 }\n"
     ]
    }
   ],
   "source": [
    "print(\"compute_divs :\", isl.union_set(\"{ A[x] : exists a : x < 3a < 2x }\").compute_divs()) \n",
    "print(\"coalesce :\", isl.union_set(\"{ A[x] : exists a : x < 3a < 2x }\").coalesce()) \n",
    "print(\"coalesce :\", isl.union_set(\"{ A[x] : 1 <=x <= 5 or 6 <= x <= 10 }\").coalesce()) \n"
   ]
  },
  {
   "cell_type": "markdown",
   "metadata": {},
   "source": [
    "## Binary Relations\n",
    "\n",
    "在isl中使用`->`来表示两个`named integer tuple`是一个二元关系`pair`. 在`isl`中, 这种二元关系通过`union map`来表示. 并且将`pair`的前部分称为`domain`, 后部分称为`range`."
   ]
  },
  {
   "cell_type": "code",
   "execution_count": 7,
   "metadata": {},
   "outputs": [
    {
     "name": "stdout",
     "output_type": "stream",
     "text": [
      "map 构造\n",
      "{ B[5] -> B[5]; A[2, 8, 1] -> B[6]; A[2, 8, 1] -> B[5] }\n",
      "{ A[1] -> B[2, 3, 4] }\n",
      "从domain -> range: { A[2, 8, 1] -> B[6]; A[2, 8, 1] -> B[5]; B[5] -> B[6]; B[5] -> B[5] }\n",
      "map 操作\n",
      "交集: { B[5] -> B[5] }\n",
      "反向: { B[5] -> A[2, 8, 1]; B[5] -> B[5] }\n",
      "取前部分: { B[5] }\n",
      "取后部分: { B[5]; A[2, 8, 1] }\n"
     ]
    }
   ],
   "source": [
    "\n",
    "print(\"map 构造\")\n",
    "print(isl.union_map(\"{ A[2, 8, 1] -> B[5]; A[2, 8, 1] -> B[6]; B[5] -> B[5] }\"))\n",
    "print(isl.map(\"{ A[1] -> B[2,3,4]}\"))\n",
    "print(\"从domain -> range:\", isl.union_map.from_domain_and_range(isl.union_set(\n",
    "    \"{ A[2 ,8 ,1] ; B[5]}\"), isl.union_set(\"{ B[5]; B[6] }\")))  # 这是product的构造.\n",
    "\n",
    "print(\"map 操作\")\n",
    "print(\"交集:\", isl.union_map(\"{ A[2 ,8 ,1] -> B[5]; B[5] -> B[5] }\").intersect(\n",
    "    isl.union_map(\" { A[2 ,8 ,1] -> B[6]; B[5] -> B[5] }\")))\n",
    "print(\"反向:\", isl.union_map(\"{ A[2 ,8 ,1] -> B[5]; B[5] -> B[5] }\").reverse())\n",
    "\n",
    "print(\"取前部分:\", isl.union_map(\"{ A[2 ,8 ,1] -> B[5]; B[5] -> B[5] }\").range())\n",
    "print(\"取后部分:\", isl.union_map(\"{ A[2 ,8 ,1] -> B[5]; B[5] -> B[5] }\").domain())\n"
   ]
  },
  {
   "cell_type": "markdown",
   "metadata": {},
   "source": [
    "# Points\n",
    "\n",
    "`points`是`set`的元素,通常可以用于构造`set`,或者表示`set`中所有独立的元素."
   ]
  },
  {
   "cell_type": "code",
   "execution_count": 8,
   "metadata": {},
   "outputs": [
    {
     "name": "stdout",
     "output_type": "stream",
     "text": [
      "point 构造:\n",
      "[A] -> {  :  }\n",
      "[A = 0] -> {  }\n",
      "获取一个point: { A[0, 0] }\n"
     ]
    }
   ],
   "source": [
    "print(\"point 构造:\")\n",
    "unit = isl.space.unit()\n",
    "unit = unit.add_param(\"A\")\n",
    "print(unit)\n",
    "zero_point = isl.point.zero(unit)\n",
    "print(zero_point)\n",
    "print(\"获取一个point:\", isl.set(\"{ A[i,j] : 0 <= i <= j < 10}\").sample_point())"
   ]
  },
  {
   "cell_type": "code",
   "execution_count": 9,
   "metadata": {},
   "outputs": [
    {
     "name": "stdout",
     "output_type": "stream",
     "text": [
      "point 操作:\n",
      "设定参数A为10: [A = 10] -> {  }\n",
      "{ A[0, 0] }\n",
      "{ A[0, 1] }\n",
      "{ A[1, 1] }\n",
      "遍历所有的point: [A = 123] -> {  }\n"
     ]
    }
   ],
   "source": [
    "print(\"point 操作:\")\n",
    "\n",
    "print(\"设定参数A为10:\", zero_point.add_ui(isl.ISL_DIM_TYPE.PARAM, 0, 10))\n",
    "isl.set(\"{ A[i,j] : 0 <= i <= j < 2}\").foreach_point(lambda p: print(p))\n",
    "print(\"遍历所有的point:\", zero_point.set_coordinate_val(isl.ISL_DIM_TYPE.PARAM, 0, isl.val(\"123\")))\n"
   ]
  },
  {
   "cell_type": "markdown",
   "metadata": {},
   "source": [
    "# Functions\n",
    "\n",
    "除了`set/relation`, `isl`也提供了多种类型的函数. 每个类型都从源自`value`的类型, 或者通过零个或多个的`primitive function`类型之一来构造. \n",
    "\n",
    "特殊情况下, 我们也可以通过`id`来构造`multi expression`, 要注意这并不是`function`类型.\n",
    "\n",
    "接下来我们先介绍`Primitive`类型,然后再介绍衍生类型.\n",
    "\n",
    "## Primitive Functions\n",
    "\n",
    "ISL支持两种`primitive function type`, 即`quasi-affine expressions`和`quasipolynomials`. \n",
    "其中`quasi-affine expression`是通过参数空间或集合定义的, 由整数常数, 参数和集合变量, 加法, 减法和整数分割组成. 这里可以参考[零基础入门多面体编译中的仿射表达式](https://zhuanlan.zhihu.com/p/627312844).\n",
    "\n",
    "在`isl`中, `quasi-affine`描述开始于结构化的`named integer tuple`模板, 其次是`->`符号, 然后使用方括号包裹着一个使用了前面变量的表达式, 最后整个表达式包含在花括号中. 如果`quasi-affine`表达式没有`domain space`, 则可以省略前面`named integer tuple`以及`->`符号. 如果涉及任何常量参数, 则在外部继续添加参数的表示. 比如:\n",
    "\n",
    "$$\n",
    "\t[n] -> { [x] -> [2*floor((4 n + x)/9)] }\n",
    "$$\n",
    "\n",
    "其中`n`是参数,`x`是变量.\n",
    "\n",
    "`quasipolynomials`是`quasi-affine expression`中的多项式表示. 也就是它还允许乘法, 但是不允许构建涉及乘法的表达式的整数划分\n",
    "\n",
    "$$\n",
    "  [n] -> { [x] -> (n*floor((4 n + x)/9)) }\n",
    "$$"
   ]
  },
  {
   "cell_type": "code",
   "execution_count": 10,
   "metadata": {},
   "outputs": [
    {
     "name": "stdout",
     "output_type": "stream",
     "text": [
      "quasi-affine expression :\n",
      "[n] -> { [x] -> [(2*floor((4n + x)/9))] }\n",
      "quasi-affine expression only expect constant value multiply \n"
     ]
    },
    {
     "name": "stderr",
     "output_type": "stream",
     "text": [
      "syntax error (1, 20): expecting constant value\n",
      "got keyword 'floor'\n"
     ]
    }
   ],
   "source": [
    "print(\"quasi-affine expression :\")\n",
    "print(isl.aff(\"[n] -> { [x] -> [2*floor((4 n + x)/9)] }\"))\n",
    "try:\n",
    "  print(isl.aff(\"[n] -> { [x] -> [n*floor((4 n + x)/9)] }\"))\n",
    "except:\n",
    "  print(\"quasi-affine expression only expect constant value multiply \")"
   ]
  },
  {
   "cell_type": "markdown",
   "metadata": {},
   "source": [
    "### Piecewise Quasi-Affine Expression\n",
    "\n",
    "在`isl`中，分段`quasi-affine`表达式被写成一系列有条件的aff表达式，该序列由分号分离并包裹在花括号中:\n"
   ]
  },
  {
   "cell_type": "code",
   "execution_count": 11,
   "metadata": {},
   "outputs": [
    {
     "name": "stdout",
     "output_type": "stream",
     "text": [
      "Piecewise quasi-affine expression :\n",
      "[n] -> { [x] -> [(2*floor((4n + x)/9))] : x >= 11; [x] -> [(2*floor((4n + x)/9))] : x <= 2 } space: [n] -> { [x] -> [o0] }\n",
      "[n] -> { [x] -> [(n)] : x = -1 + n; [x] -> [(1 + x)] : x <= -2 + n } space: [n] -> { [x] -> [o0] }\n"
     ]
    }
   ],
   "source": [
    "print(\"Piecewise quasi-affine expression :\")\n",
    "aff = isl.pw_aff(\"[n] -> { [x] -> [2*floor((4 n + x)/9)] :  x > 10 ; [x] -> [2*floor((4 n + x)/9)] :  x < 3   }\")\n",
    "print(aff, \"space:\", aff.get_space())\n",
    "aff = isl.pw_aff(\"[n] -> { [x] -> [x + 1] : x < n ; [x] -> [0] : x = n - 1 }\")\n",
    "print(aff, \"space:\", aff.get_space())"
   ]
  },
  {
   "cell_type": "markdown",
   "metadata": {},
   "source": [
    "如果多个`aff`的`space`不同, 那么称为`union_pw_aff`:"
   ]
  },
  {
   "cell_type": "code",
   "execution_count": 12,
   "metadata": {},
   "outputs": [
    {
     "name": "stdout",
     "output_type": "stream",
     "text": [
      "{ [x] -> [(1 + x)] : x <= 9; [x, y] -> [(0)] } space: {  :  }\n",
      "{ [] -> [(0)]; [x] -> [(1 + x)] : x <= 9 } space: {  :  }\n"
     ]
    }
   ],
   "source": [
    "aff = isl.union_pw_aff(\"{ [x] -> [x+1] : x < 10;  [x,y] -> [0] }\")\n",
    "print(aff, \"space:\", aff.get_space())\n",
    "aff = isl.union_pw_aff(\"{ [x] -> [x+1] : x < 10;  [] -> [0] }\")\n",
    "print(aff, \"space:\", aff.get_space())"
   ]
  },
  {
   "cell_type": "markdown",
   "metadata": {},
   "source": [
    "`aff` 也支持各种操作:\n",
    "1. `sum`, 将`space`相同的表达式的`value`求和 (使用`add`函数).\n",
    "2. `union`, 使用`union add`函数.\n",
    "3. `pullback`, 函数`composition`, 将一个函数的输出作用到另一个函数的输入上."
   ]
  },
  {
   "cell_type": "code",
   "execution_count": 13,
   "metadata": {},
   "outputs": [
    {
     "name": "stdout",
     "output_type": "stream",
     "text": [
      "aff sum { [x] -> [(1 + 2x)] }\n",
      "aff union { S_1[y] -> [(-1 + y)]; S_0[x] -> [(2 + x)] }\n",
      "aff pullback: R[{ D[x] -> [(-2x)]; C[x] -> [(2x)] }]\n"
     ]
    }
   ],
   "source": [
    "print(\"aff sum\", isl.aff(\"{ [x] -> [x + 2] }\").add(isl.aff(\"{ [x] -> [x - 1] }\")))\n",
    "print(\"aff union\", isl.union_pw_aff(\n",
    "    \"{ S_0[x] -> [x + 2] }\").union_add(isl.aff(\"{ S_1[y] -> [y - 1] }\")))\n",
    "\n",
    "a1 = isl.multi_union_pw_aff(\"R[{ A[i,j] -> [i + j]; E[x] -> [-x] }]\")\n",
    "a2 = isl.union_pw_multi_aff(\"{ C[x] -> A[x,x]; D[x] -> E[2x] }\")\n",
    "print(\"aff pullback:\", a1.pullback(a2))\n"
   ]
  },
  {
   "cell_type": "markdown",
   "metadata": {},
   "source": [
    "## Reductions\n",
    "\n",
    "`Reductions`代表其基本表达式的最大或最小值。 `isl`定义的唯一`Reductions`类型是`isl_qpolynomial_fold`。 并且无法直接创建这个类型对象, 但是可以通过`isl_pw_qpolynomial_bound`函数来返回."
   ]
  },
  {
   "cell_type": "markdown",
   "metadata": {},
   "source": [
    "## Multiple Expressions\n",
    "\n",
    "`Multiple Expressions`는 0개 이상의 `base expression`으로 구성된 시퀀스를 나타내며, 모두 동일한 `domain space`에 정의됩니다. `Multiple Expressions`의 `domain space`는 `base expression`과 동일하지만, `range space`은 무엇이든 될 수 있습니다. 기본 표현식에 `set space`가 있으면 해당 다중 표현식에도 `set space`가 있습니다. `value` 또는 `identifier` 타입의 객체에는 연관된 `space`가 없습니다. 따라서 여러 `values` 또는 여러 `identifier`의 `space`는 항상 `set space`입니다. 마찬가지로, `multiple union piecewise affine expression`의 공간은 항상 `set space`입니다. `base expression`이 총합이 아닌 경우, 해당 0차원 `Multiple Expressions`은 `base expression` 이외의 모든 도메인을 추적하는 명시적 `domain`을 가질 수 있습니다.\n",
    "\n",
    "`Multiple Expressions` 유형은 `isl_multi_val`, `isl_multi_id`, `isl_multi_aff`, `isl_multi_pw_aff`, `isl_multi_union_pw_aff`입니다."
   ]
  },
  {
   "cell_type": "code",
   "execution_count": 14,
   "metadata": {},
   "outputs": [
    {
     "name": "stdout",
     "output_type": "stream",
     "text": [
      "multi_id 构造:\n",
      "{ [A, B, C] }\n",
      "[D, E] -> { [A, B, C] }\n",
      "multi val 构造:\n",
      "{ [10, 20, 30] }\n",
      "[A, B] -> { [10, 20, 30] }\n"
     ]
    }
   ],
   "source": [
    "print(\"multi_id 构造:\")\n",
    "print(isl.multi_id(\"{ [A,B,C] }\"))\n",
    "print(isl.multi_id(\"[D, E] -> { [A,B,C] }\"))\n",
    "print(\"multi val 构造:\")\n",
    "print(isl.multi_val(\"{ [10,20,30] }\"))\n",
    "print(isl.multi_val(\"[A, B] -> { [10,20,30] }\"))"
   ]
  },
  {
   "cell_type": "markdown",
   "metadata": {},
   "source": [
    "在`isl`中, `aff`的`tuple`被表示为`isl_multi_aff`, 他的写法与`aff`类似, 但是用`[]`括起来的`aff`表达式泛化为一个结构化的命名整数元组模板(`structured named integer tuple template`), 同时这个模板的变量被替换为依赖输入命名整数元组模板变量的`aff`表达式."
   ]
  },
  {
   "cell_type": "code",
   "execution_count": 15,
   "metadata": {},
   "outputs": [
    {
     "name": "stdout",
     "output_type": "stream",
     "text": [
      "isl_multi_aff 构造:\n",
      "{ [i] -> [[(i)] -> [(1 + i)]] }\n",
      "{ [x, y] -> [[(-2 + x), (1 + y)] -> [(x)]] }\n",
      "{ [x, y] -> [(x), (1 + x)] }\n",
      "isl_multi_pw_aff 构造:\n",
      "{ [i] -> [((1 + i) : i > 0), ((-1 + i) : i < 0)] }\n",
      "{ [i] -> [[(i)] -> [((-1 + i) : i <= 0)]] }\n",
      "{ [i] -> [[(2 + i)] -> [((-1 + i) : i <= 0), ((-3 + i) : i >= 2)]] }\n",
      "isl_multi_union_pw_aff 构造:\n",
      "[{ S_1[m] -> [(10 + m)] : m > 0 }, { S_2[n] -> [(-10 + n)] : n < 0 }]\n"
     ]
    }
   ],
   "source": [
    "print(\"isl_multi_aff 构造:\")\n",
    "print(isl.multi_aff(\"{ [i] -> [[i] -> [i+1]] }\"))\n",
    "print(isl.multi_aff(\"{ [x, y] -> [[x-2,y+1] -> [x]] }\"))\n",
    "print(isl.multi_aff(\"{ [x, y] -> [(x), (x+1)] }\"))\n",
    "\n",
    "print(\"isl_multi_pw_aff 构造:\")\n",
    "print(isl.multi_pw_aff(\"{ [i] -> [(i + 1: i>0), (i - 1: i < 0)]  }\"))\n",
    "print(isl.multi_pw_aff(\"{ [i] -> [[i] -> [i-1 : i < 1]]  }\"))\n",
    "print(isl.multi_pw_aff(\"{ [i] -> [[i+2] -> [(i-1 : i < 1), (i-3 : i > 1) ]] }\"))\n",
    "\n",
    "print(\"isl_multi_union_pw_aff 构造:\")\n",
    "print(isl.multi_union_pw_aff(\"[{ S_1[m] -> [m + 10] :  m > 0 }, { S_2[n] -> [n-10] : n < 0 } ]\"))"
   ]
  }
 ],
 "metadata": {
  "kernelspec": {
   "display_name": "Python 3 (ipykernel)",
   "language": "python",
   "name": "python3"
  },
  "language_info": {
   "codemirror_mode": {
    "name": "ipython",
    "version": 3
   },
   "file_extension": ".py",
   "mimetype": "text/x-python",
   "name": "python",
   "nbconvert_exporter": "python",
   "pygments_lexer": "ipython3",
   "version": "3.8.10"
  }
 },
 "nbformat": 4,
 "nbformat_minor": 4
}
