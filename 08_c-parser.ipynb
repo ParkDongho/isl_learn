{
 "cells": [
  {
   "cell_type": "markdown",
   "metadata": {},
   "source": [
    "# Parse C Code\n",
    "需要手动编译安装pet库."
   ]
  },
  {
   "cell_type": "code",
   "execution_count": 1,
   "metadata": {},
   "outputs": [
    {
     "name": "stdout",
     "output_type": "stream",
     "text": [
      "[N] -> {  : -2147483648 <= N <= 2147483647 }\n",
      "{ domain: \"[N] -> { S_0[i] : 0 <= i < N }\", child: { schedule: \"[N] -> L_0[{ S_0[i] -> [(i)] }]\" } }\n",
      "[N] -> { S_0[i] -> B[-1 + i] : 0 < i < N; S_0[i = 0] -> B[-1 + N] : N > 0 }\n",
      "[N] -> { S_0[i] -> A[i] : 0 <= i < N }\n"
     ]
    }
   ],
   "source": [
    "import pet\n",
    "import sys\n",
    "import tempfile\n",
    "\n",
    "\n",
    "def parse_code(source: str, func_name: str):\n",
    "  with open(\"/tmp/parse_code.c\", \"w\") as f:\n",
    "    f.write(source)\n",
    "  scop = pet.scop.extract_from_C_source(\"/tmp/parse_code.c\", func_name)\n",
    "  context = scop.get_context()\n",
    "  schedule = scop.get_schedule()\n",
    "  reads = scop.get_may_reads()\n",
    "  writes = scop.get_may_writes()\n",
    "  return (context, schedule, reads, writes)\n",
    "\n",
    "\n",
    "context, schedule, reads, writes = parse_code(\"\"\"\n",
    "void rotate(int N, int A[N], int B[N])\n",
    "{\n",
    "#pragma scop\n",
    "\tfor (int i = 0; i < N; ++i)\n",
    "\t\tA[i] = i == 0 ? B[N - 1] : B[i - 1];\n",
    "#pragma endscop\n",
    "}\n",
    "\"\"\", \"rotate\")\n"
   ]
  },
  {
   "cell_type": "code",
   "execution_count": 3,
   "metadata": {},
   "outputs": [
    {
     "name": "stdout",
     "output_type": "stream",
     "text": [
      "[N] -> {  : -2147483648 <= N <= 2147483647 }\n"
     ]
    }
   ],
   "source": [
    "print(context)"
   ]
  },
  {
   "cell_type": "code",
   "execution_count": 5,
   "metadata": {},
   "outputs": [
    {
     "name": "stdout",
     "output_type": "stream",
     "text": [
      "{ domain: \"[N] -> { S_0[i] : 0 <= i < N }\", child: { schedule: \"[N] -> L_0[{ S_0[i] -> [(i)] }]\" } }\n"
     ]
    }
   ],
   "source": [
    "print(schedule)"
   ]
  },
  {
   "cell_type": "code",
   "execution_count": 7,
   "metadata": {},
   "outputs": [
    {
     "name": "stdout",
     "output_type": "stream",
     "text": [
      "[N] -> { S_0[i] -> B[-1 + i] : 0 < i < N; S_0[i = 0] -> B[-1 + N] : N > 0 }\n"
     ]
    }
   ],
   "source": [
    "print(reads)"
   ]
  },
  {
   "cell_type": "code",
   "execution_count": 6,
   "metadata": {},
   "outputs": [
    {
     "name": "stdout",
     "output_type": "stream",
     "text": [
      "[N] -> { S_0[i] -> A[i] : 0 <= i < N }\n"
     ]
    }
   ],
   "source": [
    "print(writes)"
   ]
  },
  {
   "cell_type": "markdown",
   "metadata": {},
   "source": [
    "\n"
   ]
  }
 ],
 "metadata": {
  "kernelspec": {
   "display_name": "Python 3 (ipykernel)",
   "language": "python",
   "name": "python3"
  },
  "language_info": {
   "codemirror_mode": {
    "name": "ipython",
    "version": 3
   },
   "file_extension": ".py",
   "mimetype": "text/x-python",
   "name": "python",
   "nbconvert_exporter": "python",
   "pygments_lexer": "ipython3",
   "version": "3.8.17"
  },
  "vscode": {
   "interpreter": {
    "hash": "6ac053ab6041984fd9f99bea63aa7c119339c91142b5c598fa752601785f0fe2"
   }
  }
 },
 "nbformat": 4,
 "nbformat_minor": 2
}
