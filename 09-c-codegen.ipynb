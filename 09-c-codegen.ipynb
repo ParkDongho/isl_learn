{
 "cells": [
  {
   "attachments": {},
   "cell_type": "markdown",
   "metadata": {},
   "source": [
    "# C CodeGen\n",
    "\n",
    "将isl的ir重新生成到c, 算是理论联系实际中非常重要的一环, 但是目前大部分教程并没有这块内容. 因此我决定将其补齐.\n",
    "通过学习ppcg的代码, 我们需要pet/isl一起使用, 同时还需要使用到isl中一些未导出的类和函数. \n",
    "\n",
    "isl导出函数比较简单: 首先需要在类/函数前加上`__isl_export`即可, 然后isl提供了一个extract_interface的程序通过解析isl源码生成出对应的c++/python接口(注意部分类型导出到cpp时会需要特殊处理), 因此直接执行`make isl.py`即可更新python接口. \n",
    "注意isl在导出接口时对参数的使用做了规范化,如果是callback函数`__isl_keep`需要进行copy, 如果普通函数`__isl_take`就需要copy. 虽然isl部分的接口导出都是自动的, 但是pet的接口导出就需要自己注意."
   ]
  },
  {
   "cell_type": "code",
   "execution_count": 1,
   "metadata": {},
   "outputs": [],
   "source": [
    "import pet\n",
    "import isl\n",
    "\n",
    "def parse_code(source: str, func_name: str):\n",
    "  with open(\"/tmp/parse_code.c\", \"w\") as f:\n",
    "    f.write(source)\n",
    "  scop = pet.scop.extract_from_C_source(\"/tmp/parse_code.c\", func_name)\n",
    "  context = scop.get_context()\n",
    "  schedule = scop.get_schedule()\n",
    "  reads = scop.get_may_reads()\n",
    "  writes = scop.get_may_writes()\n",
    "  return (scop, context, schedule, reads, writes)\n",
    "\n",
    "\n",
    "scop, context, schedule, reads, writes = parse_code(\"\"\"\n",
    "void foo()\n",
    "{\n",
    "\tint i;\n",
    "\tint a;\n",
    "\n",
    "#pragma scop\n",
    "\tfor (i = 0; i < 10; ++i)\n",
    "\t\ta = 5;\n",
    "#pragma endscop\n",
    "}\n",
    "\"\"\", \"foo\")\n",
    "\n",
    "class CSource():\n",
    "  def __init__(self, path: str) -> None:\n",
    "    with open(path, 'r') as f:\n",
    "      self.context = f.read()\n",
    "  def _repr_html_(self) -> str:\n",
    "    return \"<pre class='code'><code class=\\\"cpp hljs\\\">\" + self.context + \"</code></pre>\"\n"
   ]
  },
  {
   "cell_type": "markdown",
   "metadata": {},
   "source": [
    "## 默认CodeGen流程\n",
    "\n",
    "在isl中, 首先是将schedule转换为ast(通过ast_build), 接着遍历ast打印为代码. 如果不加任何修改, 打印输出为如下:"
   ]
  },
  {
   "cell_type": "code",
   "execution_count": 2,
   "metadata": {},
   "outputs": [
    {
     "data": {
      "text/html": [
       "<pre class='code'><code class=\"cpp hljs\">{\n",
       "  { op: call, args: [ { id: S_0 } ] };\n",
       "  for (int c0 = { val: 0 }; { op: le, args: [ { id: c0 }, { val: 9 } ] }; c0 += { val: 1 }) {\n",
       "    { op: call, args: [ { id: S_1 }, { id: c0 } ] };\n",
       "    { op: call, args: [ { id: S_2 }, { id: c0 } ] };\n",
       "  }\n",
       "  { op: call, args: [ { id: S_3 } ] };\n",
       "  { op: call, args: [ { id: S_4 } ] };\n",
       "}\n",
       "</code></pre>"
      ],
      "text/plain": [
       "<__main__.CSource at 0x10b025fd0>"
      ]
     },
     "execution_count": 2,
     "metadata": {},
     "output_type": "execute_result"
    }
   ],
   "source": [
    "\n",
    "\n",
    "printer = isl.printer.from_file('/tmp/1.c')\n",
    "builder = isl.ast_build()\n",
    "tree: isl.ast_node = builder.node_from(schedule)\n",
    "options = isl.ast_print_options.alloc()\n",
    "tree.print(printer, options)\n",
    "printer.flush()\n",
    "\n",
    "CSource('/tmp/1.c')"
   ]
  },
  {
   "cell_type": "markdown",
   "metadata": {},
   "source": [
    "## Ast Print CallBack\n",
    "\n",
    "ast_print_options支持两种callback函数, 用于在遍历ast的过程中, 自定义处理需要的信息:\n",
    "```python\n",
    "options.set_print_for(callback)\n",
    "options.set_print_user(callback)\n",
    "```\n",
    "\n",
    "比如我们可以在print for的时候添加基于openmp的并行:"
   ]
  },
  {
   "cell_type": "code",
   "execution_count": 3,
   "metadata": {},
   "outputs": [
    {
     "data": {
      "text/html": [
       "<pre class='code'><code class=\"cpp hljs\">{\n",
       "  { op: call, args: [ { id: S_0 } ] };\n",
       "  #pragma omp parallel for\n",
       "  for (int c0 = { val: 0 }; { op: le, args: [ { id: c0 }, { val: 9 } ] }; c0 += { val: 1 }) {\n",
       "    { op: call, args: [ { id: S_1 }, { id: c0 } ] };\n",
       "    { op: call, args: [ { id: S_2 }, { id: c0 } ] };\n",
       "  }\n",
       "  { op: call, args: [ { id: S_3 } ] };\n",
       "  { op: call, args: [ { id: S_4 } ] };\n",
       "}\n",
       "</code></pre>"
      ],
      "text/plain": [
       "<__main__.CSource at 0x104520640>"
      ]
     },
     "execution_count": 3,
     "metadata": {},
     "output_type": "execute_result"
    }
   ],
   "source": [
    "def print_for_callback(p: isl.printer, opt: isl.ast_print_options, node: isl.ast_node_for):\n",
    "  # when loop can parallel execute:\n",
    "  p.start_line()\n",
    "  p.print_str(\"#pragma omp parallel for\")\n",
    "  p.end_line()\n",
    "  node.print(p, opt)\n",
    "  return p\n",
    "\n",
    "\n",
    "printer = isl.printer.from_file('/tmp/2.c')\n",
    "options = isl.ast_print_options.alloc()\n",
    "options = options.set_print_for(print_for_callback)\n",
    "tree.print(printer, options)\n",
    "printer.flush()\n",
    "CSource('/tmp/2.c')\n"
   ]
  },
  {
   "cell_type": "markdown",
   "metadata": {},
   "source": [
    "为了让打印出来的代码符合c的形式, 可以自定义print user:"
   ]
  },
  {
   "cell_type": "code",
   "execution_count": 4,
   "metadata": {},
   "outputs": [
    {
     "data": {
      "text/html": [
       "<pre class='code'><code class=\"cpp hljs\">{\n",
       "  S_0();\n",
       "  for (int c0 = { val: 0 }; { op: le, args: [ { id: c0 }, { val: 9 } ] }; c0 += { val: 1 }) {\n",
       "    S_1(c0);\n",
       "    S_2(c0);\n",
       "  }\n",
       "  S_3();\n",
       "  S_4();\n",
       "}\n",
       "</code></pre>"
      ],
      "text/plain": [
       "<__main__.CSource at 0x10b0325e0>"
      ]
     },
     "execution_count": 4,
     "metadata": {},
     "output_type": "execute_result"
    }
   ],
   "source": [
    "def print_user_callback(p: isl.printer, opt: isl.ast_print_options, node: isl.ast_node_user):\n",
    "  # when loop can parallel execute:\n",
    "  p = p.start_line()\n",
    "  p = p.print_str(isl.ast_expr.to_C_str(node.expr()))\n",
    "  p = p.print_str(\";\")\n",
    "  p = p.end_line()\n",
    "  return p\n",
    "\n",
    "printer = isl.printer.from_file('/tmp/3.c')\n",
    "options = isl.ast_print_options.alloc()\n",
    "# options = options.set_print_for(print_for_callback)\n",
    "options = options.set_print_user(print_user_callback)\n",
    "tree.print(printer, options)\n",
    "printer.flush()\n",
    "CSource('/tmp/3.c')"
   ]
  },
  {
   "cell_type": "markdown",
   "metadata": {},
   "source": [
    "注意到这里输出的for循环的结果还是不符合c的格式, 那是因为我们没有设定isl printer的format:"
   ]
  },
  {
   "cell_type": "code",
   "execution_count": 5,
   "metadata": {},
   "outputs": [
    {
     "data": {
      "text/html": [
       "<pre class='code'><code class=\"cpp hljs\">{\n",
       "  S_0();\n",
       "  for (int c0 = 0; c0 <= 9; c0 += 1) {\n",
       "    S_1(c0);\n",
       "    S_2(c0);\n",
       "  }\n",
       "  S_3();\n",
       "  S_4();\n",
       "}\n",
       "</code></pre>"
      ],
      "text/plain": [
       "<__main__.CSource at 0x1043c1730>"
      ]
     },
     "execution_count": 5,
     "metadata": {},
     "output_type": "execute_result"
    }
   ],
   "source": [
    "\n",
    "def print_user_callback(p: isl.printer, opt: isl.ast_print_options, node: isl.ast_node_user):\n",
    "  # when loop can parallel execute:\n",
    "  id = node.annotation()\n",
    "  p = p.start_line()\n",
    "  p = p.print_str(isl.ast_expr.to_C_str(node.expr()))\n",
    "  p = p.print_str(\";\")\n",
    "  p = p.end_line()\n",
    "  return p\n",
    "\n",
    "printer = isl.printer.from_file('/tmp/4.c')\n",
    "printer.set_output_format(isl.ISL_FORMAT.C)\n",
    "options = isl.ast_print_options.alloc()\n",
    "# options = options.set_print_for(print_for_callback)\n",
    "options = options.set_print_user(print_user_callback)\n",
    "tree.print(printer, options)\n",
    "printer.flush()\n",
    "CSource('/tmp/4.c')"
   ]
  },
  {
   "cell_type": "markdown",
   "metadata": {},
   "source": [
    "# CodeGen With Stmt.\n",
    "\n",
    "注意到上面输出的代码中每个statement都是用named id来代替表示的, 这样并不符合c语言的形式. 所以我们需要将这些named id和源代码中的statement对应起来.\n",
    "\n",
    "\n",
    "1. ppcg在`ast_build`中设定了`at_each_domain`的callback, 在每个domain中通过statement的id找到pet解析的scop中对应的stmt, 并设定annotation.\n",
    "2. ppcg 在`print_user`中通过`isl_ast_node_get_annotation`获取annotation, 然后在通过annotation获得stmt, 最后直接调用pet的print stmt."
   ]
  },
  {
   "cell_type": "code",
   "execution_count": 6,
   "metadata": {},
   "outputs": [
    {
     "data": {
      "text/html": [
       "<pre class='code'><code class=\"cpp hljs\">{\n",
       "  i = 0;\n",
       "  for (int c0 = 0; c0 <= 9; c0 += 1) {\n",
       "    a = 5;\n",
       "    i = (c0 + 1);\n",
       "  }\n",
       "}\n",
       "</code></pre>"
      ],
      "text/plain": [
       "<__main__.CSource at 0x10b23a730>"
      ]
     },
     "execution_count": 6,
     "metadata": {},
     "output_type": "execute_result"
    }
   ],
   "source": [
    "def find_stmt_from_scop(id: isl.id) -> pet.stmt:\n",
    "  \"\"\" 在pet解析的scop中找到对应的stmt.  \"\"\"\n",
    "  n_stmt = scop.get_n_stmt()\n",
    "  for i in range(n_stmt):\n",
    "    stmt = scop.get_stmt(i)\n",
    "    domain = stmt.get_domain()\n",
    "    id_i = domain.get_tuple_id()\n",
    "    if (id.ptr == id_i.ptr):\n",
    "      return stmt\n",
    " \n",
    "id_dict = dict()\n",
    "\n",
    "def at_each_domain(node: isl.ast_node_user, build: isl.ast_build):\n",
    "  expr: isl.ast_expr_op = node.get_expr()\n",
    "  arg: isl.ast_expr_id = expr.get_arg(0)\n",
    "  id: isl.id = arg.get_id()\n",
    "  stmt: pet.stmt = find_stmt_from_scop(id)\n",
    "  map = build.get_schedule().as_map()\n",
    "  map = map.reverse()\n",
    "  iterator_map = map.as_pw_multi_aff()\n",
    "\n",
    "  def pullback_index(index: isl.multi_pw_aff, id: isl.id):\n",
    "    return index.pullback(iterator_map)\n",
    "\n",
    "  ref2expr = stmt.build_ast_exprs(build, pullback_index, None)\n",
    "  id_dict[id.ptr] = (stmt, ref2expr)\n",
    "\n",
    "  return node.set_annotation(id)\n",
    "\n",
    "\n",
    "def print_user(p: isl.printer, opt: isl.ast_print_options, node: isl.ast_node_user):\n",
    "  # when loop can parallel execute:\n",
    "  id = node.annotation()\n",
    "  (stmt, ref2expr) = id_dict[id.ptr]\n",
    "  stmt: pet.stmt\n",
    "  p = stmt.print_body(p, ref2expr)\n",
    "  return p\n",
    "\n",
    "\n",
    "printer = isl.printer.from_file('/tmp/5.c')\n",
    "printer.set_output_format(isl.ISL_FORMAT.C)\n",
    "builder = isl.ast_build()\n",
    "builder = builder.set_at_each_domain(at_each_domain)\n",
    "tree: isl.ast_node = builder.node_from(schedule)\n",
    "options = isl.ast_print_options.alloc()\n",
    "options = options.set_print_user(print_user)\n",
    "tree.print(printer, options)\n",
    "printer.flush()\n",
    "\n",
    "CSource('/tmp/5.c')\n"
   ]
  }
 ],
 "metadata": {
  "kernelspec": {
   "display_name": "ci",
   "language": "python",
   "name": "python3"
  },
  "language_info": {
   "codemirror_mode": {
    "name": "ipython",
    "version": 3
   },
   "file_extension": ".py",
   "mimetype": "text/x-python",
   "name": "python",
   "nbconvert_exporter": "python",
   "pygments_lexer": "ipython3",
   "version": "3.8.15"
  },
  "orig_nbformat": 4
 },
 "nbformat": 4,
 "nbformat_minor": 2
}
