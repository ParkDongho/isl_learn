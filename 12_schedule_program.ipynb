{
 "cells": [
  {
   "cell_type": "markdown",
   "metadata": {},
   "source": [
    "# 准备工作\n",
    "\n",
    "首先列出原始代码, 因为原始代码并不是c的形式, 所以这里手动列出所多面体所需要的各项信息:\n",
    "```python\n",
    "for i in range(1,1000):\n",
    "  for j in range(1,500):\n",
    "    a[i, j] = a[i, j+1] + b[i, j] # s1\n",
    "    c[i, j] = a[i, j] + d[i+1, j] # s2\n",
    "    d[i, j] = 3*e[i, j] # s3\n",
    "```"
   ]
  },
  {
   "cell_type": "code",
   "execution_count": 2,
   "metadata": {},
   "outputs": [],
   "source": [
    "import isl"
   ]
  },
  {
   "cell_type": "code",
   "execution_count": 3,
   "metadata": {},
   "outputs": [],
   "source": [
    "domain = isl.union_set(\"{ s1[i, j] : 1 <= i < 1000 and 1 <= j < 500; s2[i, j] : 1 <= i < 1000 and 1 <= j < 500; s3[i, j] : 1 <= i < 1000 and 1 <= j < 500 }\")\n",
    "schedule = isl.union_map(\"{ s1[i,j] -> [t0 = i, t1 = j, t2 = 0]; s2[i,j] -> [t0 = i, t1 = j, t2 = 1]; s3[i,j] -> [t0 = i, t1 = j, t2 = 2] }\")\n",
    "reads = isl.union_map(\"{ s1[i,j] -> a[i,j+1]; s1[i,j] -> b[i,j]; s2[i, j] -> a[i,j]; s2[i, j] -> d[i+1,j]; s3[i, j] -> e[i,j];  }\")\n",
    "writes = isl.union_map(\"{ s1[i,j] -> a[i,j]; s2[i, j] -> c[i,j]; s3[i, j] -> d[i,j];  }\")"
   ]
  },
  {
   "cell_type": "code",
   "execution_count": 4,
   "metadata": {},
   "outputs": [
    {
     "name": "stdout",
     "output_type": "stream",
     "text": [
      "domain: { s3[i, j] : 0 < i <= 999 and 0 < j <= 499; s2[i, j] : 0 < i <= 999 and 0 < j <= 499; s1[i, j] : 0 < i <= 999 and 0 < j <= 499 }\n",
      "schedule: { s3[i, j] -> [t0 = i, t1 = j, t2 = 2]; s1[i, j] -> [t0 = i, t1 = j, t2 = 0]; s2[i, j] -> [t0 = i, t1 = j, t2 = 1] }\n",
      "reads: { s1[i, j] -> b[i, j]; s3[i, j] -> e[i, j]; s1[i, j] -> a[i, 1 + j]; s2[i, j] -> a[i, j]; s2[i, j] -> d[1 + i, j] }\n",
      "writes: { s2[i, j] -> c[i, j]; s3[i, j] -> d[i, j]; s1[i, j] -> a[i, j] }\n"
     ]
    }
   ],
   "source": [
    "print(\"domain:\", domain)\n",
    "print(\"schedule:\", schedule)\n",
    "print(\"reads:\", reads)\n",
    "print(\"writes:\", writes)"
   ]
  },
  {
   "cell_type": "markdown",
   "metadata": {},
   "source": [
    "# 依赖分析\n",
    "\n",
    "## 写后读依赖\n",
    "\n",
    "$$(R ^{-1} \\circ W)\\ \\cap < S$$\n",
    "\n",
    "Read After Write(RAW)依赖也被称为流依赖/真依赖, 需要保证前一个操作写入后才能进行正确读取, 对应计算机中常说的生产-消费关系. 也就是读语句作为`sink`节点, 写语句作为`source`节点, 我们可以用两种不同的api来计算写后读依赖."
   ]
  },
  {
   "cell_type": "code",
   "execution_count": 5,
   "metadata": {},
   "outputs": [
    {
     "name": "stdout",
     "output_type": "stream",
     "text": [
      "read after write: { s1[i, j] -> s2[i' = i, j' = j] }\n",
      "last write -> read { s1[i, j] -> [s2[i' = i, j' = j] -> a[i, j]] }\n"
     ]
    }
   ],
   "source": [
    "raw = writes.apply_range(reads.reverse()).intersect(schedule.lex_lt_union_map(schedule))\n",
    "print(\"read after write:\",raw)\n",
    "\n",
    "info = isl.union_access_info(reads)\n",
    "info = info.set_must_source(writes)\n",
    "info = info.set_schedule_map(schedule)\n",
    "flow = info.compute_flow()\n",
    "print(\"last write -> read\", flow.full_must_dependence())"
   ]
  },
  {
   "cell_type": "markdown",
   "metadata": {},
   "source": [
    "在同一个`[i,j]`迭代下, `s1`对某个数据的写入后被`s2`读取."
   ]
  },
  {
   "cell_type": "markdown",
   "metadata": {},
   "source": [
    "## 读后写依赖\n",
    "\n",
    "$$(W ^{-1} \\circ R)\\ \\cap < S$$\n",
    "\n",
    "Write After Read(WAR)依赖也被称为反依赖, 此时写语句作为`sink`节点, 读语句作为`source`节点."
   ]
  },
  {
   "cell_type": "code",
   "execution_count": 6,
   "metadata": {},
   "outputs": [
    {
     "name": "stdout",
     "output_type": "stream",
     "text": [
      "write after read: { s2[i, j] -> s3[i' = 1 + i, j' = j]; s1[i, j] -> s1[i' = i, j' = 1 + j] }\n",
      "last read -> write { s2[i, j] -> [s3[i' = 1 + i, j' = j] -> d[1 + i, j]]; s1[i, j] -> [s1[i' = i, j' = 1 + j] -> a[i, 1 + j]] }\n"
     ]
    }
   ],
   "source": [
    "war = reads.apply_range(writes.reverse()).intersect(schedule.lex_lt_union_map(schedule))\n",
    "print(\"write after read:\",war)\n",
    "\n",
    "info = isl.union_access_info(writes)\n",
    "info = info.set_must_source(reads)\n",
    "info = info.set_schedule_map(schedule)\n",
    "flow = info.compute_flow()\n",
    "print(\"last read -> write\", flow.full_must_dependence())"
   ]
  },
  {
   "cell_type": "markdown",
   "metadata": {},
   "source": [
    "在`[i,j]`迭代中`s2`读取后, 在`[i+1,j]`迭代中`s3`中对同一位置进行覆盖写入. 在`[i,j]`迭代中`s1`读取后, 在`[i,j+1]`迭代中`s1`中对同一位置进行覆盖写入."
   ]
  },
  {
   "cell_type": "markdown",
   "metadata": {},
   "source": [
    "## 写后写依赖\n",
    "\n",
    "$$(W ^{-1} \\circ W)\\ \\cap < S$$\n",
    "\n",
    "Write After Write也称为输出依赖, 此时最新的写入作为`sink`节点, 上一次写入作为`source`节点.\n"
   ]
  },
  {
   "cell_type": "code",
   "execution_count": 7,
   "metadata": {},
   "outputs": [
    {
     "name": "stdout",
     "output_type": "stream",
     "text": [
      "write after write: {  }\n",
      "last write -> current write {  }\n"
     ]
    }
   ],
   "source": [
    "waw = writes.apply_range(writes.reverse()).intersect(schedule.lex_lt_union_map(schedule))\n",
    "print(\"write after write:\",waw)\n",
    "\n",
    "info = isl.union_access_info(writes)\n",
    "info = info.set_must_source(writes)\n",
    "info = info.set_schedule_map(schedule)\n",
    "flow = info.compute_flow()\n",
    "print(\"last write -> current write\", flow.full_must_dependence())"
   ]
  },
  {
   "cell_type": "markdown",
   "metadata": {},
   "source": [
    "在数据流分析和依赖关系的上下文中, `sink`(汇点)和 `source`(源点)的概念是用来描述数据如何在不同的操作间流动的.依赖关系通常是从 `source` 到 `sink` 的, 这表示数据从 `source` 产生并流向 `sink`. 这个概念在不同类型的依赖中有所不同: \n",
    "\n",
    "1. 写后读(Write-After-Read, WAR)/ 真依赖(True Dependency): \n",
    "    - Source: 写操作, 因为它产生了数据.\n",
    "    - Sink: 随后的读操作, 因为它使用了前面写操作产生的数据.\n",
    "    - 依赖方向: 从写操作(source)到读操作(sink).\n",
    "2. 读后写(Read-After-Write, RAW)/ 反依赖(Anti-dependency): \n",
    "    - Source: 读操作, 因为它首先访问了数据.\n",
    "    - Sink: 随后的写操作, 因为它可能会改变前面读操作访问的数据.\n",
    "    - 依赖方向: 从读操作(source)到写操作(sink).\n",
    "3. 写后写(Write-After-Write, WAW)/ 输出依赖(Output Dependency): \n",
    "    - Source: 第一个写操作, 因为它首先写入数据.\n",
    "    - Sink: 随后的写操作, 因为它写入相同的数据位置.\n",
    "    - 依赖方向: 从第一个写操作(source)到第二个写操作(sink).\n",
    "\n",
    "使用`union_access_info`计算出`union_flow`之后, 我们可以获取以下一些信息:\n",
    "\n",
    "- must_dependence/full_must_dependence\n",
    "- may_dependence/full_may_dependence\n",
    "- must_no_source/may_no_source\n",
    "\n",
    "这里带有`full`表示输出中带有对具体数组访问的信息.带有`may`前缀的表示无法确定的信息. \n",
    "\n",
    "这里`no_source`表示没有来源的实例, 比如例子中对于数组`c`只有写入没有读取, 例如在读后写依赖中,读作为`soure`, 这里的`no source`依赖为`{ s2[i, j] -> c[i, j] }`, 因为没有对数组`c`的写入只有对他的读取. 而对于写后读依赖, 这里的`no source`依赖为:`{ s1[i, j] -> b[i, j]; s3[i, j] -> e[i, j]; s2[i, j] -> d[1 + i, j]; s1[i, j] -> a[i, 1 + j] }`, 我们也可以称之为`live in memory`, 也就是在这段代码中只从外部读取的数据."
   ]
  },
  {
   "cell_type": "markdown",
   "metadata": {},
   "source": [
    "# 自动并行优化\n",
    "\n",
    "通过观察依赖可以发现, 在这里存在了跨迭代的读后写依赖, 影响了这段代码的并行化. 因此我们需要考虑寻找合适的方法来消除这种依赖. \n",
    "在isl库中, 提供了`schedule_constraints`用于自动地构建和操作调度约束, 默认使用类似`pluto`的调度算法. 我们可以给他提供迭代域, `validity`(有效性依赖, 用于保证程序正确性), `proximity`(临近性依赖, 用于提升局部性), `coincidence`(相干性依赖, 用于提示并行性). \n",
    "\n",
    "然后使用`compute_schedule`函数可以用来计算满足给定调度约束的调度. 这些调度约束包括计算调度所需的迭代域以及迭代对之间的依赖. 生成的调度将遵守所有有效性依赖，确保这些依赖在调度空间中的依赖距离是字典序上的正值​​. "
   ]
  },
  {
   "cell_type": "code",
   "execution_count": 8,
   "metadata": {},
   "outputs": [
    {
     "name": "stdout",
     "output_type": "stream",
     "text": [
      "# YOU ARE HERE\n",
      "domain: \"{ s3[i, j] : 0 < i <= 999 and 0 < j <= 499; s2[i, j] : 0 < i <= 999 and 0 < j <= 499; s1[i, j] : 0 < i <= 999 and 0 < j <= 499 }\"\n",
      "child:\n",
      "  schedule: \"[{ s3[i, j] -> [(i)]; s2[i, j] -> [(1 + i)]; s1[i, j] -> [(1 + i)] }, { s3[i, j] -> [(j)]; s2[i, j] -> [(j)]; s1[i, j] -> [(j)] }]\"\n",
      "  permutable: 1\n",
      "  coincident: [ 1, 0 ]\n",
      "  child:\n",
      "    sequence:\n",
      "    - filter: \"{ s1[i, j] }\"\n",
      "    - filter: \"{ s2[i, j] }\"\n",
      "    - filter: \"{ s3[i, j] }\"\n",
      "\n"
     ]
    }
   ],
   "source": [
    "sc = isl.schedule_constraints.on_domain(domain)\n",
    "dep = war.union(raw).union(waw)\n",
    "sc = sc.set_validity(dep)\n",
    "sc = sc.set_coincidence(dep)\n",
    "sc = sc.set_proximity(dep)\n",
    "sched = sc.compute_schedule()\n",
    "print(sched.root())"
   ]
  },
  {
   "cell_type": "markdown",
   "metadata": {},
   "source": [
    "这里我们需要利用`band`节点的coincident信息在后续codegen是生成带有并行的代码, 但是在isl中内置的循环类型只有`isl_ast_loop_default,isl_ast_loop_atomic,isl_ast_loop_unroll,isl_ast_loop_separate`这四种, 并且都是会在codegen时有单独的处理, 所以我们只能自己添加`mark`节点到图上, 给后续使用. "
   ]
  },
  {
   "cell_type": "code",
   "execution_count": 9,
   "metadata": {},
   "outputs": [],
   "source": [
    "def insert_mark_before_bind(node: isl.schedule_node) -> isl.schedule_node:\n",
    "    if (isinstance(node, isl.schedule_node_band)):\n",
    "        bind: isl.schedule_node_band = node\n",
    "        splited_bind = None\n",
    "        new_bind = bind\n",
    "        while True:\n",
    "            splited = False\n",
    "            for i in range(new_bind.n_member()):\n",
    "                if (new_bind.member_get_coincident(i)):\n",
    "                    new_bind = new_bind.split(i+1)\n",
    "                    new_bind = new_bind.insert_mark(isl.id(f\"parallel\"))\n",
    "                    if splited_bind is None:\n",
    "                        splited_bind = new_bind\n",
    "                    new_bind = new_bind.child(0).child(0)\n",
    "                    splited = True\n",
    "                    break\n",
    "            if (not splited):\n",
    "                break\n",
    "\n",
    "        return bind if splited_bind is None else splited_bind\n",
    "    return node\n",
    "\n",
    "\n",
    "# post order visit\n",
    "new_sched = sched.map_schedule_node_bottom_up(insert_mark_before_bind)"
   ]
  },
  {
   "cell_type": "code",
   "execution_count": 10,
   "metadata": {},
   "outputs": [
    {
     "data": {
      "text/plain": [
       "isl.schedule_node_domain(\"\"\"# YOU ARE HERE\n",
       "domain: \"{ s3[i, j] : 0 < i <= 999 and 0 < j <= 499; s2[i, j] : 0 < i <= 999 and 0 < j <= 499; s1[i, j] : 0 < i <= 999 and 0 < j <= 499 }\"\n",
       "child:\n",
       "  mark: \"parallel\"\n",
       "  child:\n",
       "    schedule: \"[{ s3[i, j] -> [(i)]; s2[i, j] -> [(1 + i)]; s1[i, j] -> [(1 + i)] }]\"\n",
       "    permutable: 1\n",
       "    coincident: [ 1 ]\n",
       "    child:\n",
       "      schedule: \"[{ s3[i, j] -> [(j)]; s2[i, j] -> [(j)]; s1[i, j] -> [(j)] }]\"\n",
       "      permutable: 1\n",
       "      child:\n",
       "        sequence:\n",
       "        - filter: \"{ s1[i, j] }\"\n",
       "        - filter: \"{ s2[i, j] }\"\n",
       "        - filter: \"{ s3[i, j] }\"\n",
       "\"\"\")"
      ]
     },
     "execution_count": 10,
     "metadata": {},
     "output_type": "execute_result"
    }
   ],
   "source": [
    "new_sched.root()"
   ]
  },
  {
   "cell_type": "markdown",
   "metadata": {},
   "source": [
    "对于添加`mark`节点后的调度树, 首先我们将他转换为`ast tree`:"
   ]
  },
  {
   "cell_type": "code",
   "execution_count": 11,
   "metadata": {},
   "outputs": [],
   "source": [
    "def after_mark_callback(node: isl.ast_node_mark, build: isl.ast_build) -> isl.ast_node:\n",
    "    if (node.id().name() == \"parallel\"):\n",
    "      mark_child: isl.ast_node  = node.node()\n",
    "      mark_child = mark_child.set_annotation(isl.id(\"parallel\"))\n",
    "      # NOTE isl内部应该有bug,如果root节点为ast for, 那么后续遍历时无法遍历到root for ast node. 所以这里手动添加一个block\n",
    "      return isl.ast_node_block(isl.ast_node_list(isl.ast_node(mark_child))) \n",
    "    return node\n",
    "\n",
    "\n",
    "builder = isl.ast_build()\n",
    "builder = builder.set_after_each_mark(after_mark_callback)\n",
    "tree: isl.ast_node = builder.node_from(new_sched)"
   ]
  },
  {
   "cell_type": "markdown",
   "metadata": {},
   "source": [
    "接下来需要处理两个事情, 一个是statement的表达式生成, 另一个就是并行循环生成, 这里都使用`callback`来处理:"
   ]
  },
  {
   "cell_type": "code",
   "execution_count": 12,
   "metadata": {},
   "outputs": [
    {
     "data": {
      "text/html": [
       "<pre class='code'><code class=\"cpp hljs\">{\n",
       "  #pragma omp parallel for\n",
       "  for (int c0 = 1; c0 <= 1000; c0 += 1)\n",
       "    for (int c1 = 1; c1 <= 499; c1 += 1) {\n",
       "      if (c0 >= 2) {\n",
       "        a[c0 - 1][c1] = a[c0 - 1][c1 + 1] + b[c0 - 1][c1];\n",
       "        c[c0 - 1][c1] = a[c0 - 1][c1] + d[c0 - 1 + 1][c1];\n",
       "      }\n",
       "      if (c0 <= 999)\n",
       "        d[c0][c1] = 3 * e[c0][c1];\n",
       "    }\n",
       "}\n",
       "</code></pre>"
      ],
      "text/plain": [
       "```c\n",
       "{\n",
       "  #pragma omp parallel for\n",
       "  for (int c0 = 1; c0 <= 1000; c0 += 1)\n",
       "    for (int c1 = 1; c1 <= 499; c1 += 1) {\n",
       "      if (c0 >= 2) {\n",
       "        a[c0 - 1][c1] = a[c0 - 1][c1 + 1] + b[c0 - 1][c1];\n",
       "        c[c0 - 1][c1] = a[c0 - 1][c1] + d[c0 - 1 + 1][c1];\n",
       "      }\n",
       "      if (c0 <= 999)\n",
       "        d[c0][c1] = 3 * e[c0][c1];\n",
       "    }\n",
       "}\n",
       "\n",
       "```"
      ]
     },
     "execution_count": 12,
     "metadata": {},
     "output_type": "execute_result"
    }
   ],
   "source": [
    "from common import CSource\n",
    "\n",
    "\n",
    "def print_for_callback(p: isl.printer, opt: isl.ast_print_options, node: isl.ast_node_for):\n",
    "    anno = node.get_annotation()\n",
    "    if (anno.ptr is not None and anno.name() == \"parallel\"):\n",
    "        p.start_line()\n",
    "        p.print_str(\"#pragma omp parallel for\")\n",
    "        p.end_line()\n",
    "    node.print(p, opt)\n",
    "    return p\n",
    "\n",
    "\n",
    "def print_user_callback(p: isl.printer, opt: isl.ast_print_options, node: isl.ast_node_user):\n",
    "    e = node.expr()\n",
    "    if isinstance(e, isl.ast_expr_op_call):\n",
    "        sid: isl.ast_expr_id = e.arg(0)\n",
    "        i, j = e.arg(1), e.arg(2)\n",
    "        idname = sid.id().name()\n",
    "        if (idname == \"s1\"):\n",
    "            # a[i, j] = a[i, j+1] + b[i, j] # s1\n",
    "            a = isl.ast_expr.from_id(isl.id(\"a\"))\n",
    "            b = isl.ast_expr.from_id(isl.id(\"b\"))\n",
    "            l = isl.ast_expr_list(2)\n",
    "            l = l.add(i)\n",
    "            l = l.add(j.add(isl.ast_expr.from_val(isl.val(1))))\n",
    "            lhs = isl.ast_expr.access(a, l)\n",
    "            \n",
    "            l = isl.ast_expr_list(2)\n",
    "            l = l.add(i)\n",
    "            l = l.add(j)\n",
    "            rhs = isl.ast_expr.access(b, l)\n",
    "\n",
    "            left = lhs.add(rhs)\n",
    "\n",
    "            l = isl.ast_expr_list(2)\n",
    "            l = l.add(i)\n",
    "            l = l.add(j)\n",
    "            right = isl.ast_expr.access(a, l)\n",
    "            p.start_line()\n",
    "            p.print_ast_expr(right)\n",
    "            p.print_str(\" = \")\n",
    "            p.print_ast_expr(left)\n",
    "            p.print_str(\";\")\n",
    "            p.end_line()\n",
    "        elif idname == \"s2\":\n",
    "            # c[i, j] = a[i, j] + d[i+1, j] # s2\n",
    "            a = isl.ast_expr.from_id(isl.id(\"a\"))\n",
    "            c = isl.ast_expr.from_id(isl.id(\"c\"))\n",
    "            d = isl.ast_expr.from_id(isl.id(\"d\"))\n",
    "            ij = isl.ast_expr_list(2)\n",
    "            ij = ij.add(i)\n",
    "            ij = ij.add(j)\n",
    "            \n",
    "            i1j = isl.ast_expr_list(2)\n",
    "            i1j = i1j.add(i.add(isl.ast_expr.from_val(isl.val(1))))\n",
    "            i1j = i1j.add(j)\n",
    "            p.start_line()\n",
    "            p.print_ast_expr(c.access(ij))\n",
    "            p.print_str(\" = \")\n",
    "            p.print_ast_expr(a.access(ij).add(d.access(i1j)))\n",
    "            p.print_str(\";\")\n",
    "            p.end_line()\n",
    "        elif idname == \"s3\":\n",
    "            # d[i, j] = 3*e[i, j] # s3\n",
    "            d = isl.ast_expr.from_id(isl.id(\"d\"))\n",
    "            e = isl.ast_expr.from_id(isl.id(\"e\"))\n",
    "            ij = isl.ast_expr_list(2)\n",
    "            ij = ij.add(i)\n",
    "            ij = ij.add(j)\n",
    "            \n",
    "            p.start_line()\n",
    "            p.print_ast_expr(d.access(ij))\n",
    "            p.print_str(\" = \")\n",
    "            p.print_ast_expr(isl.ast_expr.from_val(3).mul(e.access(ij)))\n",
    "            p.print_str(\";\")\n",
    "            p.end_line()\n",
    "    return p\n",
    "\n",
    "\n",
    "printer = isl.printer.from_file('/tmp/1.c')\n",
    "printer.set_output_format(isl.ISL_FORMAT.C)\n",
    "\n",
    "options = isl.ast_print_options.alloc()\n",
    "options = options.set_print_for(print_for_callback)\n",
    "options = options.set_print_user(print_user_callback)\n",
    "tree.print(printer, options)\n",
    "printer.flush()\n",
    "\n",
    "CSource('/tmp/1.c')"
   ]
  },
  {
   "cell_type": "markdown",
   "metadata": {},
   "source": [
    "# 手动并行优化\n",
    "\n",
    "我们需要考虑哪些依赖是跨迭代的, 通过消除跨迭代的依赖性来进行并行化. 首先我们选取迭代域的子集绘制两个写后读依赖图:"
   ]
  },
  {
   "cell_type": "code",
   "execution_count": 13,
   "metadata": {},
   "outputs": [],
   "source": [
    "import petplot.plotter as plt"
   ]
  },
  {
   "cell_type": "code",
   "execution_count": 14,
   "metadata": {},
   "outputs": [
    {
     "name": "stdout",
     "output_type": "stream",
     "text": [
      "{ s1[i, j] -> s1[i' = i, j' = 1 + j] : 0 < i <= 9 and 0 < j <= 4 }\n"
     ]
    },
    {
     "data": {
      "image/png": "[encoded data removed]",
      "text/plain": [
       "<Figure size 640x480 with 1 Axes>"
      ]
     },
     "metadata": {},
     "output_type": "display_data"
    }
   ],
   "source": [
    "partial_domain = isl.set(\"{s1[i, j] : 1 <= i < 10 and 1 <= j < 5 }\")\n",
    "s1 = war.map_list().at(1)\n",
    "s1_point_map = s1.intersect_domain(partial_domain)\n",
    "print(s1_point_map)\n",
    "plt.plot_map(s1_point_map)"
   ]
  },
  {
   "cell_type": "code",
   "execution_count": 15,
   "metadata": {},
   "outputs": [
    {
     "name": "stdout",
     "output_type": "stream",
     "text": [
      "{ s2[i, j] -> s3[i' = 1 + i, j' = j] : 0 < i <= 9 and 0 < j <= 4 }\n"
     ]
    },
    {
     "data": {
      "image/png": "[encoded data removed]",
      "text/plain": [
       "<Figure size 640x480 with 1 Axes>"
      ]
     },
     "metadata": {},
     "output_type": "display_data"
    }
   ],
   "source": [
    "partial_domain = isl.set(\"{s2[i, j] : 1 <= i < 10 and 1 <= j < 5 }\")\n",
    "s2 = war.map_list().at(0)\n",
    "s2_point_map = s2.intersect_domain(partial_domain)\n",
    "print(s2_point_map)\n",
    "plt.plot_map(s2_point_map)"
   ]
  },
  {
   "cell_type": "markdown",
   "metadata": {},
   "source": [
    "上图表示在迭代`i`上, `s1`不存在跨迭代依赖. 在迭代`j`上`s2`并不存在跨迭代依赖. 那么说明我们可以考虑对迭代`i`或`j`中进行并行可能性. 迭代`i`在迭代`j`的外部, 如果对迭代`i`进行并行, `s2`上存在跨迭代的依赖会导致错误. \n",
    "\n",
    "注意到迭代`j`中只有`s1`存在依赖, 而其他两个语句不存在依赖, 那么我们可以通过`Loop Fission`拆分迭代`j`的语句, 单独对`s2,s3`的进行并行化.\n",
    "\n",
    "接下来我们手动构造一个拆分后的调度树:"
   ]
  },
  {
   "cell_type": "code",
   "execution_count": 39,
   "metadata": {},
   "outputs": [],
   "source": [
    "sched2 = isl.schedule.from_domain(domain)\n",
    "root = sched2.root()\n",
    "c0 =  root.child(0).insert_partial_schedule(isl.multi_union_pw_aff(\"[{ s3[i, j] -> [(i)]; s2[i, j] -> [(i)]; s1[i, j] -> [(i)] }]\"))\n",
    "c1 = c0.child(0).insert_sequence(isl.union_set_list(\"({ s1[i, j] }, { s2[i, j]; s3[i, j] })\"))\n",
    "c2 = c1.child(0).child(0).insert_partial_schedule(isl.multi_union_pw_aff(\"[{ s1[i, j] -> [j] }]\"))\n",
    "c2 = c2.child(0).insert_sequence(isl.union_set_list(\"({ s1[i, j] })\"))"
   ]
  },
  {
   "cell_type": "code",
   "execution_count": 40,
   "metadata": {},
   "outputs": [
    {
     "data": {
      "text/plain": [
       "isl.schedule_node_sequence(\"\"\"domain: \"{ s3[i, j] : 0 < i <= 999 and 0 < j <= 499; s2[i, j] : 0 < i <= 999 and 0 < j <= 499; s1[i, j] : 0 < i <= 999 and 0 < j <= 499 }\"\n",
       "child:\n",
       "  schedule: \"[{ s2[i, j] -> [(i)]; s1[i, j] -> [(i)]; s3[i, j] -> [(i)] }]\"\n",
       "  child:\n",
       "    sequence:\n",
       "    - filter: \"{ s1[i, j] }\"\n",
       "      child:\n",
       "        schedule: \"[{ s1[i, j] -> [(j)] }]\"\n",
       "        child:\n",
       "          sequence:\n",
       "          - filter: \"{ s1[i, j] }\"\n",
       "    - filter: \"{ s3[i, j]; s2[i, j] }\"\n",
       "      child:\n",
       "        mark: \"parallel\"\n",
       "        child:\n",
       "          schedule: \"[{ s3[i, j] -> [(j)]; s2[i, j] -> [(j)] }]\"\n",
       "          child:\n",
       "            # YOU ARE HERE\n",
       "            sequence:\n",
       "            - filter: \"{ s2[i, j] }\"\n",
       "            - filter: \"{ s3[i, j] }\"\n",
       "\"\"\")"
      ]
     },
     "execution_count": 40,
     "metadata": {},
     "output_type": "execute_result"
    }
   ],
   "source": [
    "c3 = c2.parent().parent().parent().child(1).child(0).insert_mark(isl.id(\"parallel\")).child(0).insert_partial_schedule(isl.multi_union_pw_aff(\"[{ s3[i, j] -> [j]; s2[i, j] -> [j] }]\"))\n",
    "c3 = c3.child(0).insert_sequence(isl.union_set_list(\"({ s2[i, j] }, { s3[i, j] })\"))\n",
    "c3"
   ]
  },
  {
   "cell_type": "markdown",
   "metadata": {},
   "source": [
    "对调度树进行代码生成:"
   ]
  },
  {
   "cell_type": "code",
   "execution_count": 41,
   "metadata": {},
   "outputs": [
    {
     "data": {
      "text/html": [
       "<pre class='code'><code class=\"cpp hljs\">for (int c0 = 1; c0 <= 999; c0 += 1) {\n",
       "  for (int c1 = 1; c1 <= 499; c1 += 1)\n",
       "    a[c0][c1] = a[c0][c1 + 1] + b[c0][c1];\n",
       "  #pragma omp parallel for\n",
       "  for (int c1 = 1; c1 <= 499; c1 += 1) {\n",
       "    c[c0][c1] = a[c0][c1] + d[c0 + 1][c1];\n",
       "    d[c0][c1] = 3 * e[c0][c1];\n",
       "  }\n",
       "}\n",
       "</code></pre>"
      ],
      "text/plain": [
       "```c\n",
       "for (int c0 = 1; c0 <= 999; c0 += 1) {\n",
       "  for (int c1 = 1; c1 <= 499; c1 += 1)\n",
       "    a[c0][c1] = a[c0][c1 + 1] + b[c0][c1];\n",
       "  #pragma omp parallel for\n",
       "  for (int c1 = 1; c1 <= 499; c1 += 1) {\n",
       "    c[c0][c1] = a[c0][c1] + d[c0 + 1][c1];\n",
       "    d[c0][c1] = 3 * e[c0][c1];\n",
       "  }\n",
       "}\n",
       "\n",
       "```"
      ]
     },
     "execution_count": 41,
     "metadata": {},
     "output_type": "execute_result"
    }
   ],
   "source": [
    "new_sched = c3.schedule()\n",
    "builder = isl.ast_build()\n",
    "builder = builder.set_after_each_mark(after_mark_callback)\n",
    "tree: isl.ast_node = builder.node_from(new_sched)\n",
    "printer = isl.printer.from_file('/tmp/2.c')\n",
    "printer.set_output_format(isl.ISL_FORMAT.C)\n",
    "\n",
    "options = isl.ast_print_options.alloc()\n",
    "options = options.set_print_for(print_for_callback)\n",
    "options = options.set_print_user(print_user_callback)\n",
    "tree.print(printer, options)\n",
    "printer.flush()\n",
    "\n",
    "CSource('/tmp/2.c')"
   ]
  }
 ],
 "metadata": {
  "kernelspec": {
   "display_name": "ci",
   "language": "python",
   "name": "python3"
  },
  "language_info": {
   "codemirror_mode": {
    "name": "ipython",
    "version": 3
   },
   "file_extension": ".py",
   "mimetype": "text/x-python",
   "name": "python",
   "nbconvert_exporter": "python",
   "pygments_lexer": "ipython3",
   "version": "3.8.17"
  }
 },
 "nbformat": 4,
 "nbformat_minor": 2
}
